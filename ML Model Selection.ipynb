{
 "cells": [
  {
   "cell_type": "markdown",
   "id": "fcf1de54-c207-4b43-8e9f-2aef323b0064",
   "metadata": {},
   "source": [
    "# 🚀 Beyond Guesswork: Automated ML Model Selection \n",
    "## Highlights:\n",
    "- ✅ Loads dataset\n",
    "- ✅ Data cleaning, feature engineering, and encoding\n",
    "- ✅ Compares 5 different algorithms with proper scaling\n",
    "- ✅ Uses GridSearchCV for hyperparameter tuning with cross-validation\n",
    "- ✅ Evaluates on held-out test data to prevent overfitting\n",
    "- ✅ Ranks models by performance and provides detailed analysis\n",
    "\n",
    "### Load Dataset\n",
    "- 🚢 **Titanic**"
   ]
  },
  {
   "cell_type": "code",
   "execution_count": 4,
   "id": "4d99948f-942c-4dca-80d0-2e6f890dac61",
   "metadata": {},
   "outputs": [
    {
     "data": {
      "text/html": [
       "<div>\n",
       "<style scoped>\n",
       "    .dataframe tbody tr th:only-of-type {\n",
       "        vertical-align: middle;\n",
       "    }\n",
       "\n",
       "    .dataframe tbody tr th {\n",
       "        vertical-align: top;\n",
       "    }\n",
       "\n",
       "    .dataframe thead th {\n",
       "        text-align: right;\n",
       "    }\n",
       "</style>\n",
       "<table border=\"1\" class=\"dataframe\">\n",
       "  <thead>\n",
       "    <tr style=\"text-align: right;\">\n",
       "      <th></th>\n",
       "      <th>pclass</th>\n",
       "      <th>survived</th>\n",
       "      <th>name</th>\n",
       "      <th>sex</th>\n",
       "      <th>age</th>\n",
       "      <th>sibsp</th>\n",
       "      <th>parch</th>\n",
       "      <th>ticket</th>\n",
       "      <th>fare</th>\n",
       "      <th>cabin</th>\n",
       "      <th>embarked</th>\n",
       "      <th>boat</th>\n",
       "      <th>body</th>\n",
       "      <th>home.dest</th>\n",
       "    </tr>\n",
       "  </thead>\n",
       "  <tbody>\n",
       "    <tr>\n",
       "      <th>0</th>\n",
       "      <td>1</td>\n",
       "      <td>1</td>\n",
       "      <td>Allen, Miss. Elisabeth Walton</td>\n",
       "      <td>female</td>\n",
       "      <td>29.0000</td>\n",
       "      <td>0</td>\n",
       "      <td>0</td>\n",
       "      <td>24160</td>\n",
       "      <td>211.3375</td>\n",
       "      <td>B5</td>\n",
       "      <td>S</td>\n",
       "      <td>2</td>\n",
       "      <td>NaN</td>\n",
       "      <td>St Louis, MO</td>\n",
       "    </tr>\n",
       "    <tr>\n",
       "      <th>1</th>\n",
       "      <td>1</td>\n",
       "      <td>1</td>\n",
       "      <td>Allison, Master. Hudson Trevor</td>\n",
       "      <td>male</td>\n",
       "      <td>0.9167</td>\n",
       "      <td>1</td>\n",
       "      <td>2</td>\n",
       "      <td>113781</td>\n",
       "      <td>151.5500</td>\n",
       "      <td>C22 C26</td>\n",
       "      <td>S</td>\n",
       "      <td>11</td>\n",
       "      <td>NaN</td>\n",
       "      <td>Montreal, PQ / Chesterville, ON</td>\n",
       "    </tr>\n",
       "  </tbody>\n",
       "</table>\n",
       "</div>"
      ],
      "text/plain": [
       "   pclass survived                            name     sex      age  sibsp  \\\n",
       "0       1        1   Allen, Miss. Elisabeth Walton  female  29.0000      0   \n",
       "1       1        1  Allison, Master. Hudson Trevor    male   0.9167      1   \n",
       "\n",
       "   parch  ticket      fare    cabin embarked boat  body  \\\n",
       "0      0   24160  211.3375       B5        S    2   NaN   \n",
       "1      2  113781  151.5500  C22 C26        S   11   NaN   \n",
       "\n",
       "                         home.dest  \n",
       "0                     St Louis, MO  \n",
       "1  Montreal, PQ / Chesterville, ON  "
      ]
     },
     "execution_count": 4,
     "metadata": {},
     "output_type": "execute_result"
    }
   ],
   "source": [
    "from sklearn.datasets import fetch_openml\n",
    "titanic = fetch_openml(\"titanic\", version=1, as_frame=True)\n",
    "df = titanic.frame\n",
    "df.head(2)"
   ]
  },
  {
   "cell_type": "markdown",
   "id": "15ca148e-cc2b-4709-9772-bfcfefe9dbed",
   "metadata": {},
   "source": [
    "### Data exploration and visualization\n",
    "- Importing basic libraries for  understanding the dataset and visualization"
   ]
  },
  {
   "cell_type": "code",
   "execution_count": 5,
   "id": "bcf5a644-11c6-4790-bd11-ed0a9f0b0332",
   "metadata": {},
   "outputs": [],
   "source": [
    "import pandas as pd\n",
    "import matplotlib.pyplot as plt\n",
    "import seaborn as sns\n",
    "plt.style.use(\"ggplot\")\n",
    "plt.rcParams[\"figure.figsize\"] = (6,4)"
   ]
  },
  {
   "cell_type": "code",
   "execution_count": 6,
   "id": "8e254430-cbdc-4a7f-8d6a-d2b4363f14d9",
   "metadata": {},
   "outputs": [
    {
     "data": {
      "text/plain": [
       "(1309, 14)"
      ]
     },
     "execution_count": 6,
     "metadata": {},
     "output_type": "execute_result"
    }
   ],
   "source": [
    "df.shape"
   ]
  },
  {
   "cell_type": "code",
   "execution_count": 7,
   "id": "ff767638-4b9d-470d-a39b-0694f8291bb1",
   "metadata": {},
   "outputs": [
    {
     "data": {
      "text/plain": [
       "Index(['pclass', 'survived', 'name', 'sex', 'age', 'sibsp', 'parch', 'ticket',\n",
       "       'fare', 'cabin', 'embarked', 'boat', 'body', 'home.dest'],\n",
       "      dtype='object')"
      ]
     },
     "execution_count": 7,
     "metadata": {},
     "output_type": "execute_result"
    }
   ],
   "source": [
    "df.columns"
   ]
  },
  {
   "cell_type": "code",
   "execution_count": 8,
   "id": "32f6914f-d3fc-45f3-99a9-a1726a5f30b2",
   "metadata": {},
   "outputs": [
    {
     "data": {
      "text/html": [
       "<div>\n",
       "<style scoped>\n",
       "    .dataframe tbody tr th:only-of-type {\n",
       "        vertical-align: middle;\n",
       "    }\n",
       "\n",
       "    .dataframe tbody tr th {\n",
       "        vertical-align: top;\n",
       "    }\n",
       "\n",
       "    .dataframe thead tr th {\n",
       "        text-align: left;\n",
       "    }\n",
       "\n",
       "    .dataframe thead tr:last-of-type th {\n",
       "        text-align: right;\n",
       "    }\n",
       "</style>\n",
       "<table border=\"1\" class=\"dataframe\">\n",
       "  <thead>\n",
       "    <tr>\n",
       "      <th></th>\n",
       "      <th colspan=\"2\" halign=\"left\">pclass</th>\n",
       "      <th colspan=\"2\" halign=\"left\">age</th>\n",
       "      <th colspan=\"2\" halign=\"left\">sibsp</th>\n",
       "      <th colspan=\"2\" halign=\"left\">parch</th>\n",
       "      <th colspan=\"2\" halign=\"left\">fare</th>\n",
       "    </tr>\n",
       "    <tr>\n",
       "      <th></th>\n",
       "      <th>mean</th>\n",
       "      <th>median</th>\n",
       "      <th>mean</th>\n",
       "      <th>median</th>\n",
       "      <th>mean</th>\n",
       "      <th>median</th>\n",
       "      <th>mean</th>\n",
       "      <th>median</th>\n",
       "      <th>mean</th>\n",
       "      <th>median</th>\n",
       "    </tr>\n",
       "    <tr>\n",
       "      <th>survived</th>\n",
       "      <th></th>\n",
       "      <th></th>\n",
       "      <th></th>\n",
       "      <th></th>\n",
       "      <th></th>\n",
       "      <th></th>\n",
       "      <th></th>\n",
       "      <th></th>\n",
       "      <th></th>\n",
       "      <th></th>\n",
       "    </tr>\n",
       "  </thead>\n",
       "  <tbody>\n",
       "    <tr>\n",
       "      <th>0</th>\n",
       "      <td>2.500618</td>\n",
       "      <td>3.0</td>\n",
       "      <td>30.545369</td>\n",
       "      <td>28.0</td>\n",
       "      <td>0.521632</td>\n",
       "      <td>0.0</td>\n",
       "      <td>0.328801</td>\n",
       "      <td>0.0</td>\n",
       "      <td>23.353831</td>\n",
       "      <td>10.5</td>\n",
       "    </tr>\n",
       "    <tr>\n",
       "      <th>1</th>\n",
       "      <td>1.962000</td>\n",
       "      <td>2.0</td>\n",
       "      <td>28.918228</td>\n",
       "      <td>28.0</td>\n",
       "      <td>0.462000</td>\n",
       "      <td>0.0</td>\n",
       "      <td>0.476000</td>\n",
       "      <td>0.0</td>\n",
       "      <td>49.361184</td>\n",
       "      <td>26.0</td>\n",
       "    </tr>\n",
       "  </tbody>\n",
       "</table>\n",
       "</div>"
      ],
      "text/plain": [
       "            pclass               age            sibsp            parch         \\\n",
       "              mean median       mean median      mean median      mean median   \n",
       "survived                                                                        \n",
       "0         2.500618    3.0  30.545369   28.0  0.521632    0.0  0.328801    0.0   \n",
       "1         1.962000    2.0  28.918228   28.0  0.462000    0.0  0.476000    0.0   \n",
       "\n",
       "               fare         \n",
       "               mean median  \n",
       "survived                    \n",
       "0         23.353831   10.5  \n",
       "1         49.361184   26.0  "
      ]
     },
     "execution_count": 8,
     "metadata": {},
     "output_type": "execute_result"
    }
   ],
   "source": [
    "df[['pclass','age', 'sibsp', 'parch','fare','survived']].groupby(\"survived\",observed=False).agg([\"mean\",\"median\"])"
   ]
  },
  {
   "cell_type": "code",
   "execution_count": 9,
   "id": "027ca2ce-5997-4788-bc46-9ed251fbb5f5",
   "metadata": {
    "scrolled": true
   },
   "outputs": [
    {
     "data": {
      "image/png": "[encoded data removed]",
      "text/plain": [
       "<Figure size 600x400 with 1 Axes>"
      ]
     },
     "metadata": {},
     "output_type": "display_data"
    }
   ],
   "source": [
    "survival_counts = df['survived'].value_counts()\n",
    "plt.pie(survival_counts, labels=['Did Not Survive', 'Survived'], \n",
    "        autopct='%1.1f%%', startangle=9)\n",
    "plt.title('Survival Distribution in Titanic Dataset')\n",
    "plt.show()"
   ]
  },
  {
   "cell_type": "code",
   "execution_count": 24,
   "id": "d92c89a9-ca03-4dc4-989a-24ecc9dad02e",
   "metadata": {},
   "outputs": [
    {
     "data": {
      "image/png": "[encoded data removed]",
      "text/plain": [
       "<Figure size 600x400 with 1 Axes>"
      ]
     },
     "metadata": {},
     "output_type": "display_data"
    }
   ],
   "source": [
    "pd.crosstab(df.sex,df.survived).plot(kind=\"bar\")\n",
    "plt.title(\"Gender and Survival rate\")\n",
    "plt.xlabel(\"Gender\",fontsize=16)\n",
    "plt.show()"
   ]
  },
  {
   "cell_type": "code",
   "execution_count": 25,
   "id": "7cb1c3b3-7ab5-4e07-97bb-69c6708181f9",
   "metadata": {},
   "outputs": [
    {
     "data": {
      "image/png": "[encoded data removed]",
      "text/plain": [
       "<Figure size 600x400 with 1 Axes>"
      ]
     },
     "metadata": {},
     "output_type": "display_data"
    }
   ],
   "source": [
    "sns.histplot(data=df,bins=40,x=\"age\",kde=True,hue=\"survived\")\n",
    "plt.title(\"Age and Survival rate\")\n",
    "plt.xlabel(\"Age\",fontsize=16)\n",
    "plt.tight_layout()\n",
    "plt.show()"
   ]
  },
  {
   "cell_type": "code",
   "execution_count": 22,
   "id": "ae2e5612-1191-4126-8dfd-6fe265fac21d",
   "metadata": {
    "scrolled": true
   },
   "outputs": [
    {
     "data": {
      "image/png": "[encoded data removed]",
      "text/plain": [
       "<Figure size 800x600 with 2 Axes>"
      ]
     },
     "metadata": {},
     "output_type": "display_data"
    }
   ],
   "source": [
    "plt.figure(figsize=(8, 6))\n",
    "correlation_matrix = df[['pclass','age', 'sibsp', 'parch','fare','survived']].corr()\n",
    "sns.heatmap(correlation_matrix, annot=True, cmap='coolwarm', center=0,\n",
    "            square=True, linewidths=0.5, fmt='.2f')\n",
    "plt.title('Feature Correlation Heatmap', fontsize=16)\n",
    "plt.tight_layout()\n",
    "plt.show()"
   ]
  },
  {
   "cell_type": "markdown",
   "id": "6ac625ef-e1d7-489b-97c7-466e36896fd3",
   "metadata": {},
   "source": [
    "## Observation\n",
    "- **From the data analysis so far we can conclude that we will use following variables as independant variables in our model**\n",
    "- **pclass**, **sex**, **age**, **sibsp**, **parch** and **fare** are the primary variables impacting survival rate\n",
    "\n",
    "\n"
   ]
  },
  {
   "cell_type": "code",
   "execution_count": 143,
   "id": "18714a38-7394-4db1-b857-eb9b1a2f8081",
   "metadata": {},
   "outputs": [
    {
     "data": {
      "text/html": [
       "<div>\n",
       "<style scoped>\n",
       "    .dataframe tbody tr th:only-of-type {\n",
       "        vertical-align: middle;\n",
       "    }\n",
       "\n",
       "    .dataframe tbody tr th {\n",
       "        vertical-align: top;\n",
       "    }\n",
       "\n",
       "    .dataframe thead th {\n",
       "        text-align: right;\n",
       "    }\n",
       "</style>\n",
       "<table border=\"1\" class=\"dataframe\">\n",
       "  <thead>\n",
       "    <tr style=\"text-align: right;\">\n",
       "      <th></th>\n",
       "      <th>pclass</th>\n",
       "      <th>sex</th>\n",
       "      <th>age</th>\n",
       "      <th>sibsp</th>\n",
       "      <th>parch</th>\n",
       "      <th>fare</th>\n",
       "      <th>embarked</th>\n",
       "      <th>survived</th>\n",
       "    </tr>\n",
       "  </thead>\n",
       "  <tbody>\n",
       "    <tr>\n",
       "      <th>0</th>\n",
       "      <td>1</td>\n",
       "      <td>female</td>\n",
       "      <td>29.0000</td>\n",
       "      <td>0</td>\n",
       "      <td>0</td>\n",
       "      <td>211.3375</td>\n",
       "      <td>S</td>\n",
       "      <td>1</td>\n",
       "    </tr>\n",
       "    <tr>\n",
       "      <th>1</th>\n",
       "      <td>1</td>\n",
       "      <td>male</td>\n",
       "      <td>0.9167</td>\n",
       "      <td>1</td>\n",
       "      <td>2</td>\n",
       "      <td>151.5500</td>\n",
       "      <td>S</td>\n",
       "      <td>1</td>\n",
       "    </tr>\n",
       "    <tr>\n",
       "      <th>2</th>\n",
       "      <td>1</td>\n",
       "      <td>female</td>\n",
       "      <td>2.0000</td>\n",
       "      <td>1</td>\n",
       "      <td>2</td>\n",
       "      <td>151.5500</td>\n",
       "      <td>S</td>\n",
       "      <td>0</td>\n",
       "    </tr>\n",
       "  </tbody>\n",
       "</table>\n",
       "</div>"
      ],
      "text/plain": [
       "   pclass     sex      age  sibsp  parch      fare embarked survived\n",
       "0       1  female  29.0000      0      0  211.3375        S        1\n",
       "1       1    male   0.9167      1      2  151.5500        S        1\n",
       "2       1  female   2.0000      1      2  151.5500        S        0"
      ]
     },
     "execution_count": 143,
     "metadata": {},
     "output_type": "execute_result"
    }
   ],
   "source": [
    "final_df = df[['pclass','sex','age','sibsp','parch','fare','embarked','survived']]\n",
    "final_df.head(3)"
   ]
  },
  {
   "cell_type": "markdown",
   "id": "d50640ce-ccc9-498f-b449-06f72585662c",
   "metadata": {},
   "source": [
    "## Data cleaning and preprocessing\n"
   ]
  },
  {
   "cell_type": "code",
   "execution_count": 151,
   "id": "fa6672a6-aac4-4597-8da2-0691edee7107",
   "metadata": {},
   "outputs": [],
   "source": [
    "from sklearn.preprocessing import LabelEncoder \n",
    "import warnings as wr\n",
    "le = LabelEncoder()\n",
    "wr.filterwarnings(\"ignore\")"
   ]
  },
  {
   "cell_type": "code",
   "execution_count": 146,
   "id": "767b8ac0-0075-4dd0-aa4f-d4ce9ddbc4ba",
   "metadata": {},
   "outputs": [],
   "source": [
    "final_df.age = final_df.age.fillna(final_df.age.mean())"
   ]
  },
  {
   "cell_type": "code",
   "execution_count": 173,
   "id": "7b76f68d-e00e-40f2-baa5-a7f75a1483d1",
   "metadata": {},
   "outputs": [],
   "source": [
    "final_df = final_df.dropna()"
   ]
  },
  {
   "cell_type": "code",
   "execution_count": 174,
   "id": "99c6a947-07cb-4039-b3bd-eab4493bdb7b",
   "metadata": {},
   "outputs": [
    {
     "data": {
      "text/plain": [
       "pclass      0\n",
       "sex         0\n",
       "age         0\n",
       "sibsp       0\n",
       "parch       0\n",
       "fare        0\n",
       "embarked    0\n",
       "survived    0\n",
       "dtype: int64"
      ]
     },
     "execution_count": 174,
     "metadata": {},
     "output_type": "execute_result"
    }
   ],
   "source": [
    "final_df.isna().sum()"
   ]
  },
  {
   "cell_type": "code",
   "execution_count": 176,
   "id": "891078ab-56b2-4baf-ba03-6175c1337d89",
   "metadata": {},
   "outputs": [],
   "source": [
    "final_df.sex = le.fit_transform(final_df.sex)\n",
    "final_df.embarked = le.fit_transform(final_df.embarked)"
   ]
  },
  {
   "cell_type": "code",
   "execution_count": 177,
   "id": "11a59f6b-3740-4236-bd83-da73ddb86098",
   "metadata": {},
   "outputs": [
    {
     "data": {
      "text/html": [
       "<div>\n",
       "<style scoped>\n",
       "    .dataframe tbody tr th:only-of-type {\n",
       "        vertical-align: middle;\n",
       "    }\n",
       "\n",
       "    .dataframe tbody tr th {\n",
       "        vertical-align: top;\n",
       "    }\n",
       "\n",
       "    .dataframe thead th {\n",
       "        text-align: right;\n",
       "    }\n",
       "</style>\n",
       "<table border=\"1\" class=\"dataframe\">\n",
       "  <thead>\n",
       "    <tr style=\"text-align: right;\">\n",
       "      <th></th>\n",
       "      <th>pclass</th>\n",
       "      <th>sex</th>\n",
       "      <th>age</th>\n",
       "      <th>sibsp</th>\n",
       "      <th>parch</th>\n",
       "      <th>fare</th>\n",
       "      <th>embarked</th>\n",
       "      <th>survived</th>\n",
       "    </tr>\n",
       "  </thead>\n",
       "  <tbody>\n",
       "    <tr>\n",
       "      <th>0</th>\n",
       "      <td>1</td>\n",
       "      <td>0</td>\n",
       "      <td>29.0000</td>\n",
       "      <td>0</td>\n",
       "      <td>0</td>\n",
       "      <td>211.3375</td>\n",
       "      <td>2</td>\n",
       "      <td>1</td>\n",
       "    </tr>\n",
       "    <tr>\n",
       "      <th>1</th>\n",
       "      <td>1</td>\n",
       "      <td>1</td>\n",
       "      <td>0.9167</td>\n",
       "      <td>1</td>\n",
       "      <td>2</td>\n",
       "      <td>151.5500</td>\n",
       "      <td>2</td>\n",
       "      <td>1</td>\n",
       "    </tr>\n",
       "    <tr>\n",
       "      <th>2</th>\n",
       "      <td>1</td>\n",
       "      <td>0</td>\n",
       "      <td>2.0000</td>\n",
       "      <td>1</td>\n",
       "      <td>2</td>\n",
       "      <td>151.5500</td>\n",
       "      <td>2</td>\n",
       "      <td>0</td>\n",
       "    </tr>\n",
       "  </tbody>\n",
       "</table>\n",
       "</div>"
      ],
      "text/plain": [
       "   pclass  sex      age  sibsp  parch      fare  embarked survived\n",
       "0       1    0  29.0000      0      0  211.3375         2        1\n",
       "1       1    1   0.9167      1      2  151.5500         2        1\n",
       "2       1    0   2.0000      1      2  151.5500         2        0"
      ]
     },
     "execution_count": 177,
     "metadata": {},
     "output_type": "execute_result"
    }
   ],
   "source": [
    "final_df.head(3)"
   ]
  },
  {
   "cell_type": "markdown",
   "id": "5b5fe41a-92a8-4f02-b0b7-99da0e300655",
   "metadata": {},
   "source": [
    "### Finla dataset for train and test use"
   ]
  },
  {
   "cell_type": "code",
   "execution_count": 178,
   "id": "3f5828f7-07bb-4556-bd8d-eb5db349e06b",
   "metadata": {},
   "outputs": [],
   "source": [
    "inputs = final_df.drop([\"survived\"],axis=1)\n",
    "target = final_df.survived.astype(int)"
   ]
  },
  {
   "cell_type": "markdown",
   "id": "932fa868-ddd4-41aa-b2bf-fd3264a7c145",
   "metadata": {},
   "source": [
    "## Model selection\n",
    "- **Using hypeparameter and cross validation to find the best model and the parameters**"
   ]
  },
  {
   "cell_type": "code",
   "execution_count": 199,
   "id": "eb5bd306-4b5a-47c3-a3eb-4c87edd90060",
   "metadata": {},
   "outputs": [],
   "source": [
    "## Imporing Models\n",
    "\n",
    "from sklearn import svm\n",
    "from sklearn.ensemble import RandomForestClassifier\n",
    "from sklearn.linear_model import LogisticRegression\n",
    "from sklearn.naive_bayes import GaussianNB\n",
    "from sklearn.naive_bayes import MultinomialNB\n",
    "from sklearn.tree import DecisionTreeClassifier\n",
    "from sklearn.model_selection import train_test_split, GridSearchCV\n",
    "from sklearn.preprocessing import MinMaxScaler\n",
    "from sklearn.metrics import accuracy_score, classification_report, confusion_matrix\n",
    "import time"
   ]
  },
  {
   "cell_type": "code",
   "execution_count": 200,
   "id": "ee6656f8-c96e-4d53-b0be-1ce2c022f2e4",
   "metadata": {},
   "outputs": [],
   "source": [
    "## train test split\n",
    "X_train, X_test, y_train, y_test = train_test_split(inputs,target,test_size=0.3,random_state=42)\n",
    "\n",
    "## Feature scaling\n",
    "scaler = MinMaxScaler()\n",
    "X_train_scaled = scaler.fit_transform(X_train)\n",
    "X_test_scaled = scaler.transform(X_test)"
   ]
  },
  {
   "cell_type": "markdown",
   "id": "97b28a21-9818-4bc7-9c9f-9f91fcdebec1",
   "metadata": {},
   "source": [
    "## Creating a dictionary of models "
   ]
  },
  {
   "cell_type": "code",
   "execution_count": 201,
   "id": "49f1de3c-349a-4ee0-8810-af437c19887f",
   "metadata": {},
   "outputs": [],
   "source": [
    "## Model configuration with scaling \n",
    "\n",
    "model_dict = {\n",
    "    \"svm\": {\n",
    "        \"model\": svm.SVC(random_state=42),\n",
    "        \"para\": {\n",
    "            \"C\": [1, 5, 10, 20],\n",
    "            \"kernel\": [\"rbf\", \"linear\"],\n",
    "            \"gamma\": ['scale', 'auto']\n",
    "        },\n",
    "        \"use_scaled\": True  # SVM benefits from scaling\n",
    "    },\n",
    "    \"Random Forest\": {\n",
    "        \"model\": RandomForestClassifier(random_state=42),\n",
    "        \"para\": {\n",
    "            \"n_estimators\": [30, 50, 80],\n",
    "            \"min_samples_split\": [2, 5, 10],\n",
    "            \"min_samples_leaf\": [1, 2, 4],\n",
    "            \"criterion\": [\"gini\", \"entropy\"]\n",
    "        },\n",
    "        \"use_scaled\": False  # Trees don't need scaling\n",
    "    },\n",
    "    \"Logistic Regression\": {\n",
    "        \"model\": LogisticRegression(max_iter=1000, random_state=42),\n",
    "        \"para\": {\n",
    "            \"C\": [0.1, 1, 5, 10],\n",
    "            \"solver\": ['lbfgs', 'liblinear']\n",
    "        },\n",
    "        \"use_scaled\": True  # Logistic Regression needs scaling\n",
    "    },\n",
    "    \"Naive Gaussian\": {\n",
    "        \"model\": GaussianNB(),\n",
    "        \"para\": {},\n",
    "        \"use_scaled\": False  # Gaussian NB handles original scale\n",
    "    },\n",
    "    \"Naive Multinomial\": {\n",
    "        \"model\": MultinomialNB(),\n",
    "        \"para\": {},\n",
    "        \"use_scaled\": True  # Multinomial NB NEEDS non-negative features\n",
    "    },\n",
    "    \"Decision Tree\": {\n",
    "        \"model\": DecisionTreeClassifier(random_state=42),\n",
    "        \"para\": {\n",
    "            \"min_samples_split\": [2, 5, 10],\n",
    "            \"min_samples_leaf\": [1, 2, 4],\n",
    "            \"criterion\": [\"gini\", \"entropy\"],\n",
    "            \"max_depth\": [3, 5, 7, None]\n",
    "        },\n",
    "        \"use_scaled\": False  # Trees don't need scaling\n",
    "    }\n",
    "}"
   ]
  },
  {
   "cell_type": "markdown",
   "id": "a5ea4df7-8cd8-4dbb-b0e1-d1b13d477f45",
   "metadata": {},
   "source": [
    "## Selecting the best model and the parameters"
   ]
  },
  {
   "cell_type": "code",
   "execution_count": 208,
   "id": "172c3415-1dfb-48fb-a3c8-0373d42004e5",
   "metadata": {
    "scrolled": true
   },
   "outputs": [
    {
     "name": "stdout",
     "output_type": "stream",
     "text": [
      "Starting model comparison with Titanic dataset...\n",
      "\n",
      "🚀 Training svm...\n",
      "🚀 Training Random Forest...\n",
      "🚀 Training Logistic Regression...\n",
      "🚀 Training Naive Gaussian...\n",
      "🚀 Training Naive Multinomial...\n",
      "🚀 Training Decision Tree...\n",
      "\n",
      "📊 FINAL RESULTS:\n"
     ]
    },
    {
     "data": {
      "text/html": [
       "<div>\n",
       "<style scoped>\n",
       "    .dataframe tbody tr th:only-of-type {\n",
       "        vertical-align: middle;\n",
       "    }\n",
       "\n",
       "    .dataframe tbody tr th {\n",
       "        vertical-align: top;\n",
       "    }\n",
       "\n",
       "    .dataframe thead th {\n",
       "        text-align: right;\n",
       "    }\n",
       "</style>\n",
       "<table border=\"1\" class=\"dataframe\">\n",
       "  <thead>\n",
       "    <tr style=\"text-align: right;\">\n",
       "      <th></th>\n",
       "      <th>model_name</th>\n",
       "      <th>best_score</th>\n",
       "      <th>training_time (s)</th>\n",
       "      <th>best_parameters</th>\n",
       "    </tr>\n",
       "  </thead>\n",
       "  <tbody>\n",
       "    <tr>\n",
       "      <th>0</th>\n",
       "      <td>Random Forest</td>\n",
       "      <td>0.812</td>\n",
       "      <td>24.70</td>\n",
       "      <td>{'criterion': 'entropy', 'min_samples_leaf': 2...</td>\n",
       "    </tr>\n",
       "    <tr>\n",
       "      <th>1</th>\n",
       "      <td>Decision Tree</td>\n",
       "      <td>0.812</td>\n",
       "      <td>2.13</td>\n",
       "      <td>{'criterion': 'gini', 'max_depth': 3, 'min_sam...</td>\n",
       "    </tr>\n",
       "    <tr>\n",
       "      <th>2</th>\n",
       "      <td>svm</td>\n",
       "      <td>0.809</td>\n",
       "      <td>1.01</td>\n",
       "      <td>{'C': 1, 'gamma': 'scale', 'kernel': 'rbf'}</td>\n",
       "    </tr>\n",
       "    <tr>\n",
       "      <th>3</th>\n",
       "      <td>Naive Gaussian</td>\n",
       "      <td>0.797</td>\n",
       "      <td>0.05</td>\n",
       "      <td>{}</td>\n",
       "    </tr>\n",
       "    <tr>\n",
       "      <th>4</th>\n",
       "      <td>Logistic Regression</td>\n",
       "      <td>0.793</td>\n",
       "      <td>0.26</td>\n",
       "      <td>{'C': 5, 'solver': 'lbfgs'}</td>\n",
       "    </tr>\n",
       "    <tr>\n",
       "      <th>5</th>\n",
       "      <td>Naive Multinomial</td>\n",
       "      <td>0.659</td>\n",
       "      <td>0.05</td>\n",
       "      <td>{}</td>\n",
       "    </tr>\n",
       "  </tbody>\n",
       "</table>\n",
       "</div>"
      ],
      "text/plain": [
       "            model_name best_score training_time (s)                                    best_parameters\n",
       "0        Random Forest      0.812             24.70  {'criterion': 'entropy', 'min_samples_leaf': 2...\n",
       "1        Decision Tree      0.812              2.13  {'criterion': 'gini', 'max_depth': 3, 'min_sam...\n",
       "2                  svm      0.809              1.01        {'C': 1, 'gamma': 'scale', 'kernel': 'rbf'}\n",
       "3       Naive Gaussian      0.797              0.05                                                 {}\n",
       "4  Logistic Regression      0.793              0.26                        {'C': 5, 'solver': 'lbfgs'}\n",
       "5    Naive Multinomial      0.659              0.05                                                 {}"
      ]
     },
     "execution_count": 208,
     "metadata": {},
     "output_type": "execute_result"
    }
   ],
   "source": [
    "results = []\n",
    "training_times = []\n",
    "\n",
    "print(\"Starting model comparison with Titanic dataset...\\n\")\n",
    "\n",
    "for name, model in model_dict.items():\n",
    "    print(f\"🚀 Training {name}...\")\n",
    "    start_time = time.time()\n",
    "    \n",
    "    ## Choose the right data (scaled or original)\n",
    "    if model[\"use_scaled\"]:\n",
    "        X_train_used = X_train_scaled\n",
    "    else:\n",
    "        X_train_used = X_train\n",
    "        \n",
    "    ## Hyperparameter tuning with cross-validation\n",
    "    grid_search = GridSearchCV(\n",
    "        estimator=model[\"model\"],\n",
    "        param_grid=model[\"para\"],\n",
    "        cv=5, \n",
    "        scoring='accuracy',\n",
    "        return_train_score=False,\n",
    "        n_jobs=-1\n",
    "    )\n",
    "    \n",
    "    grid_search.fit(X_train_used, y_train)\n",
    "    training_time = time.time() - start_time\n",
    "\n",
    "    results.append({\n",
    "        \"model_name\": name,\n",
    "        \"best_score\": f\"{grid_search.best_score_:.3f}\",\n",
    "        \"training_time (s)\": f\"{training_time:.2f}\",\n",
    "        \"best_parameters\": str(grid_search.best_params_)\n",
    "    })\n",
    "    \n",
    "print(\"\\n📊 FINAL RESULTS:\")\n",
    "\n",
    "result_df = pd.DataFrame(results)\n",
    "result_df = result_df.sort_values(\"best_score\", ascending=False,ignore_index=True)\n",
    "result_df"
   ]
  },
  {
   "cell_type": "markdown",
   "id": "35aa433a-8aa7-4327-9089-39f8358fb56b",
   "metadata": {},
   "source": [
    "### Above result showing\n",
    "- 🏆 **Random Forest** emerged as the best model with **82%** accuracy\n",
    "- ⚡ **Naive Models** were the **fastest** to train\n",
    "  \n",
    "   ---------------------------------------------------"
   ]
  },
  {
   "cell_type": "markdown",
   "id": "46c829ae-3fd7-4682-84b9-0394c01f4950",
   "metadata": {},
   "source": [
    "## Final model testing and result"
   ]
  },
  {
   "cell_type": "code",
   "execution_count": 219,
   "id": "271fc3dd-108b-4d31-a0dd-b576d1a98f3b",
   "metadata": {},
   "outputs": [],
   "source": [
    "## final model\n",
    "best_model = result_df.loc[0][\"model_name\"]\n",
    "model_config = model_dict[best_model] \n",
    "\n",
    "## scaling the data\n",
    "X_train_final = X_train_scaled if model_config[\"use_scaled\"] else X_train\n",
    "X_test_final = X_test_scaled if model_config[\"use_scaled\"] else X_test\n",
    "\n",
    "## final selection\n",
    "final_grid_search = GridSearchCV(\n",
    "        estimator=model_config[\"model\"],\n",
    "        param_grid=model_config[\"para\"],\n",
    "        cv=5, \n",
    "        scoring='accuracy',\n",
    "        return_train_score=False)\n",
    "\n",
    "final_grid_search.fit(X_train_final,y_train)\n",
    "\n",
    "final_model = final_grid_search.best_estimator_\n",
    "final_best_score = f\"{grid_search.best_score_:.3f}\"\n"
   ]
  },
  {
   "cell_type": "markdown",
   "id": "0b740e81-170d-4a19-ba30-083f349e3f75",
   "metadata": {},
   "source": [
    "## Final result"
   ]
  },
  {
   "cell_type": "code",
   "execution_count": 223,
   "id": "325836ec-0dac-4303-aadd-88c1ba507102",
   "metadata": {},
   "outputs": [
    {
     "name": "stdout",
     "output_type": "stream",
     "text": [
      "\n",
      "👑 BEST MODEL: Random Forest\n",
      "\n",
      "🎉 Final Score: 0.812\n",
      "\n",
      "              precision    recall  f1-score   support\n",
      "\n",
      "           0       0.80      0.90      0.85       230\n",
      "           1       0.82      0.69      0.75       163\n",
      "\n",
      "    accuracy                           0.81       393\n",
      "   macro avg       0.81      0.79      0.80       393\n",
      "weighted avg       0.81      0.81      0.81       393\n",
      "\n"
     ]
    }
   ],
   "source": [
    "y_pred = final_model.predict(X_test_final)\n",
    "report = classification_report(y_test,y_pred)\n",
    "print(f\"\\n👑 BEST MODEL: {best_model}\\n\")\n",
    "print(f\"🎉 Final Score: {final_best_score}\\n\")\n",
    "print(report)\n"
   ]
  },
  {
   "cell_type": "code",
   "execution_count": null,
   "id": "1c4a769c-6b31-41db-9662-a1f3518ea456",
   "metadata": {},
   "outputs": [],
   "source": []
  }
 ],
 "metadata": {
  "kernelspec": {
   "display_name": "Python 3 (ipykernel)",
   "language": "python",
   "name": "python3"
  },
  "language_info": {
   "codemirror_mode": {
    "name": "ipython",
    "version": 3
   },
   "file_extension": ".py",
   "mimetype": "text/x-python",
   "name": "python",
   "nbconvert_exporter": "python",
   "pygments_lexer": "ipython3",
   "version": "3.13.5"
  }
 },
 "nbformat": 4,
 "nbformat_minor": 5
}
